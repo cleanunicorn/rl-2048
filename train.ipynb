{
 "cells": [
  {
   "cell_type": "code",
   "execution_count": 1,
   "id": "68f879fc",
   "metadata": {},
   "outputs": [],
   "source": [
    "import numpy as np\n",
    "\n",
    "# import cupy as np\n",
    "import random\n",
    "import matplotlib.pyplot as plt\n",
    "from typing import List, Tuple, Dict\n",
    "from dataclasses import dataclass\n",
    "from enum import Enum\n",
    "import time\n",
    "import torch"
   ]
  },
  {
   "cell_type": "code",
   "execution_count": 2,
   "id": "830f7ddc",
   "metadata": {},
   "outputs": [
    {
     "name": "stdout",
     "output_type": "stream",
     "text": [
      "2.8.0+cu128\n",
      "Cuda: True\n",
      "MPS: False\n",
      "CPU: True\n"
     ]
    }
   ],
   "source": [
    "print(torch.__version__)\n",
    "print(\"Cuda:\", torch.cuda.is_available())\n",
    "print(\"MPS:\", torch.mps.is_available())\n",
    "print(\"CPU:\", torch.cpu.is_available())"
   ]
  },
  {
   "cell_type": "code",
   "execution_count": 3,
   "id": "8074fd8e",
   "metadata": {},
   "outputs": [],
   "source": [
    "from Game import Game2048Env, Direction"
   ]
  },
  {
   "cell_type": "code",
   "execution_count": 4,
   "id": "f6d8b203",
   "metadata": {},
   "outputs": [
    {
     "name": "stdout",
     "output_type": "stream",
     "text": [
      "   0\t   2\t   0\t   0\n",
      "   2\t   0\t   0\t   0\n",
      "   0\t   0\t   0\t   0\n",
      "   0\t   0\t   0\t   0\n",
      "--------------------\n",
      "   2\t   0\t   0\t   0\n",
      "   2\t   4\t   0\t   0\n",
      "   0\t   0\t   0\t   0\n",
      "   2\t   0\t   0\t   0\n",
      "--------------------\n"
     ]
    }
   ],
   "source": [
    "game = Game2048Env(random_seed=1234)\n",
    "state = game.reset()\n",
    "done = False\n",
    "\n",
    "\n",
    "def print_board(board):\n",
    "    for x in board:\n",
    "        print(\"\\t\".join(f\"{v:4}\" for v in x))\n",
    "    print(\"-\" * 20)\n",
    "\n",
    "\n",
    "print_board(state)\n",
    "\n",
    "done = False\n",
    "\n",
    "while not done:  # Play some random moves\n",
    "    # action = Direction(np.random.randint(4))  # Random action for demonstration\n",
    "    actions = [Direction.LEFT, Direction.UP, Direction.RIGHT, Direction.DOWN]\n",
    "    state, reward, done, meta = game.step(actions)\n",
    "\n",
    "    # print(f\"Action: {meta['direction']} | Score: {game.score}\")\n",
    "    # print(f\"Reward: {reward} | Done: {done}\")\n",
    "\n",
    "print_board(state)"
   ]
  },
  {
   "cell_type": "code",
   "execution_count": 5,
   "id": "11794321",
   "metadata": {},
   "outputs": [],
   "source": [
    "from SimpleNeuralNetwork import SimpleNeuralNetwork"
   ]
  },
  {
   "cell_type": "code",
   "execution_count": 6,
   "id": "c1006ab4",
   "metadata": {},
   "outputs": [],
   "source": [
    "from EvolutionaryOptimizer import EvolutionaryOptimizer"
   ]
  },
  {
   "cell_type": "code",
   "execution_count": 7,
   "id": "ed6d7bce",
   "metadata": {},
   "outputs": [],
   "source": [
    "import pickle\n",
    "\n",
    "\n",
    "def save_network(network: SimpleNeuralNetwork, filename: str):\n",
    "    torch.save(network.state_dict(), filename)\n",
    "\n",
    "\n",
    "def load_network(filename: str, hidden_layers: List[int]) -> SimpleNeuralNetwork:\n",
    "    network = SimpleNeuralNetwork(hidden_layers=hidden_layers)\n",
    "    network.load_state_dict(torch.load(filename, map_location=DEVICE))\n",
    "    network.to(DEVICE)\n",
    "    return network\n",
    "\n",
    "\n",
    "def save_population(population: List[SimpleNeuralNetwork], filename: str):\n",
    "    with open(filename, \"wb\") as f:\n",
    "        pickle.dump(population, f)\n",
    "\n",
    "\n",
    "def load_population(filename: str) -> List[SimpleNeuralNetwork]:\n",
    "    with open(filename, \"rb\") as f:\n",
    "        population = pickle.load(f)\n",
    "    return population"
   ]
  },
  {
   "cell_type": "code",
   "execution_count": null,
   "id": "fc6676ba",
   "metadata": {
    "scrolled": true
   },
   "outputs": [
    {
     "name": "stdout",
     "output_type": "stream",
     "text": [
      "Saving networks to folder: networks/128\n",
      "⏳ 2:36:02.073220 | Generation 1/1000 - Average Score: 26.08 - Best Score: 84.80 \n",
      "Saving population at generation 1\n",
      "⏳ 3:25:12.112212 | Generation 2/1000 - Average Score: 53.59 - Best Score: 94.00 \n",
      "⏳ 4:10:56.013812 | Generation 3/1000 - Average Score: 83.31 - Best Score: 101.60 \n",
      "⏳ 4:48:31.832261 | Generation 4/1000 - Average Score: 104.41 - Best Score: 129.20 \n",
      "⏳ 5:13:17.305215 | Generation 5/1000 - Average Score: 109.00 - Best Score: 148.00 \n"
     ]
    }
   ],
   "source": [
    "from datetime import timedelta\n",
    "\n",
    "\n",
    "def main():\n",
    "    generations = 1000\n",
    "    games_per_player = 10\n",
    "    max_steps = 10000\n",
    "    hidden_layers = [128]\n",
    "\n",
    "    optimizer = EvolutionaryOptimizer(\n",
    "        population_size=200,\n",
    "        elite_size=20,\n",
    "        new_members=20,\n",
    "        mutation_rate=0.05,\n",
    "        mutation_strength=0.1,\n",
    "        hidden_layers=hidden_layers,\n",
    "    )\n",
    "\n",
    "    loop_start_time = time.time()\n",
    "\n",
    "    # Create directory for saving networks\n",
    "    import os\n",
    "\n",
    "    folder = f\"networks/{'_'.join(str(x) for x in hidden_layers)}\"\n",
    "    os.makedirs(folder, exist_ok=True)\n",
    "    print(f\"Saving networks to folder: {folder}\")\n",
    "\n",
    "    best_score = 0\n",
    "    avg_scores = []\n",
    "    for gen in range(generations):\n",
    "        (population, avg_score, best_score) = optimizer.run_generation(\n",
    "            games_per_player, max_steps, base_random_seed=gen\n",
    "        )\n",
    "        avg_scores.append(avg_score)\n",
    "        elapsed_time = time.time() - loop_start_time\n",
    "        average_time_per_iteration = elapsed_time / (gen + 1)\n",
    "        duration = str(\n",
    "            timedelta(seconds=(average_time_per_iteration * (generations - gen + 1)))\n",
    "        )\n",
    "\n",
    "        # Save best network every 10 generations\n",
    "        print(\n",
    "            f\"⏳ {duration} | Generation {gen + 1}/{generations} - Average Score: {avg_score:.2f} - Best Score: {best_score:.2f} \"\n",
    "        )\n",
    "        if (gen % 10 == 0) or (gen == generations - 1):\n",
    "            print(f\"Saving population at generation {gen + 1}\")\n",
    "            save_population(population, f\"{folder}/population_gen_{gen + 1}.pkl\")\n",
    "\n",
    "    # evaluated = optimizer.evaluate(env, 10)\n",
    "    # best_network, best_score = max(evaluated, key=lambda x: x[1])\n",
    "\n",
    "    # Plot average scores over generations\n",
    "    plt.plot(range(1, generations + 1), avg_scores)\n",
    "    plt.xlabel(\"Generation\")\n",
    "    plt.ylabel(\"Average Score\")\n",
    "    plt.title(\"Evolution of Average Score over Generations\")\n",
    "    plt.show()\n",
    "\n",
    "\n",
    "if __name__ == \"__main__\":\n",
    "    main()"
   ]
  },
  {
   "cell_type": "code",
   "execution_count": 9,
   "id": "4f7a495c-aaa0-4d29-b14b-b48ef0899400",
   "metadata": {},
   "outputs": [
    {
     "ename": "NameError",
     "evalue": "name 'hidden_layers' is not defined",
     "output_type": "error",
     "traceback": [
      "\u001b[31m---------------------------------------------------------------------------\u001b[39m",
      "\u001b[31mNameError\u001b[39m                                 Traceback (most recent call last)",
      "\u001b[36mCell\u001b[39m\u001b[36m \u001b[39m\u001b[32mIn[9]\u001b[39m\u001b[32m, line 3\u001b[39m\n\u001b[32m      1\u001b[39m avg_scores = []\n\u001b[32m----> \u001b[39m\u001b[32m3\u001b[39m folder = \u001b[33mf\u001b[39m\u001b[33m\"\u001b[39m\u001b[33mnetworks/\u001b[39m\u001b[38;5;132;01m{\u001b[39;00m\u001b[33m'\u001b[39m\u001b[33m_\u001b[39m\u001b[33m'\u001b[39m.join(\u001b[38;5;28mstr\u001b[39m(x)\u001b[38;5;250m \u001b[39m\u001b[38;5;28;01mfor\u001b[39;00m\u001b[38;5;250m \u001b[39mx\u001b[38;5;250m \u001b[39m\u001b[38;5;129;01min\u001b[39;00m\u001b[38;5;250m \u001b[39m\u001b[43mhidden_layers\u001b[49m)\u001b[38;5;132;01m}\u001b[39;00m\u001b[33m\"\u001b[39m\n\u001b[32m      5\u001b[39m \u001b[38;5;66;03m# Plot average scores over generations\u001b[39;00m\n\u001b[32m      6\u001b[39m plt.plot(\u001b[38;5;28mrange\u001b[39m(\u001b[32m1\u001b[39m, generations + \u001b[32m1\u001b[39m), avg_scores)\n",
      "\u001b[31mNameError\u001b[39m: name 'hidden_layers' is not defined"
     ]
    }
   ],
   "source": [
    "avg_scores = []\n",
    "\n",
    "folder = f\"networks/{'_'.join(str(x) for x in hidden_layers)}\"\n",
    "\n",
    "# Plot average scores over generations\n",
    "plt.plot(range(1, generations + 1), avg_scores)\n",
    "plt.xlabel(\"Generation\")\n",
    "plt.ylabel(\"Average Score\")\n",
    "plt.title(\"Evolution of Average Score over Generations\")\n",
    "plt.show()"
   ]
  }
 ],
 "metadata": {
  "kernelspec": {
   "display_name": "Python 3 (ipykernel)",
   "language": "python",
   "name": "python3"
  },
  "language_info": {
   "codemirror_mode": {
    "name": "ipython",
    "version": 3
   },
   "file_extension": ".py",
   "mimetype": "text/x-python",
   "name": "python",
   "nbconvert_exporter": "python",
   "pygments_lexer": "ipython3",
   "version": "3.13.7"
  }
 },
 "nbformat": 4,
 "nbformat_minor": 5
}
