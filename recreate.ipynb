{
 "cells": [
  {
   "cell_type": "code",
   "execution_count": 10,
   "id": "68f879fc",
   "metadata": {},
   "outputs": [],
   "source": [
    "import numpy as np\n",
    "# import cupy as np\n",
    "import random\n",
    "import matplotlib.pyplot as plt\n",
    "from typing import List, Tuple, Dict\n",
    "from dataclasses import dataclass\n",
    "from enum import Enum\n",
    "import time\n",
    "import torch\n"
   ]
  },
  {
   "cell_type": "code",
   "execution_count": 11,
   "id": "830f7ddc",
   "metadata": {},
   "outputs": [
    {
     "name": "stdout",
     "output_type": "stream",
     "text": [
      "2.8.0+cu128\n",
      "Cuda: True\n",
      "MPS: False\n",
      "CPU: True\n"
     ]
    }
   ],
   "source": [
    "print(torch.__version__)\n",
    "print(\"Cuda:\", torch.cuda.is_available())\n",
    "print(\"MPS:\", torch.mps.is_available())\n",
    "print(\"CPU:\", torch.cpu.is_available())\n"
   ]
  },
  {
   "cell_type": "code",
   "execution_count": 12,
   "id": "8074fd8e",
   "metadata": {},
   "outputs": [],
   "source": [
    "from Game import Game2048Env, Direction"
   ]
  },
  {
   "cell_type": "code",
   "execution_count": 13,
   "id": "f6d8b203",
   "metadata": {},
   "outputs": [
    {
     "name": "stdout",
     "output_type": "stream",
     "text": [
      "   2\t   0\t   0\t   0\n",
      "   0\t   0\t   0\t   2\n",
      "   0\t   0\t   0\t   0\n",
      "   0\t   0\t   0\t   0\n",
      "--------------------\n",
      " 128\t  64\t  32\t  16\n",
      "   2\t  32\t  16\t   8\n",
      "  64\t  16\t  32\t   4\n",
      "   8\t   2\t   4\t   2\n",
      "--------------------\n"
     ]
    }
   ],
   "source": [
    "game = Game2048Env()\n",
    "state = game.reset()\n",
    "done = False\n",
    "\n",
    "def print_board(board):\n",
    "    for x in board:\n",
    "        print(\"\\t\".join(f\"{v:4}\" for v in x))\n",
    "    print(\"-\" * 20)\n",
    "\n",
    "print_board(state)\n",
    "\n",
    "done = False\n",
    "\n",
    "while not done:  # Play some random moves\n",
    "\n",
    "    # action = Direction(np.random.randint(4))  # Random action for demonstration\n",
    "    actions = [Direction.LEFT, Direction.UP, Direction.RIGHT, Direction.DOWN]\n",
    "    state, reward, done, meta = game.step(actions)\n",
    "\n",
    "    # print(f\"Action: {meta['direction']} | Score: {game.score}\")\n",
    "    # print(f\"Reward: {reward} | Done: {done}\")\n",
    "    \n",
    "print_board(state)\n",
    "    \n",
    "    "
   ]
  },
  {
   "cell_type": "code",
   "execution_count": 14,
   "id": "11794321",
   "metadata": {},
   "outputs": [],
   "source": [
    "from SimpleNeuralNetwork import SimpleNeuralNetwork"
   ]
  },
  {
   "cell_type": "code",
   "execution_count": 15,
   "id": "c1006ab4",
   "metadata": {},
   "outputs": [],
   "source": [
    "from EvolutionaryOptimizer import EvolutionaryOptimizer"
   ]
  },
  {
   "cell_type": "code",
   "execution_count": 16,
   "id": "ed6d7bce",
   "metadata": {},
   "outputs": [],
   "source": [
    "import pickle\n",
    "\n",
    "def save_network(network: SimpleNeuralNetwork, filename: str):\n",
    "    torch.save(network.state_dict(), filename)\n",
    "\n",
    "def load_network(filename: str, hidden_layers: List[int]) -> SimpleNeuralNetwork:\n",
    "    network = SimpleNeuralNetwork(hidden_layers=hidden_layers)\n",
    "    network.load_state_dict(torch.load(filename, map_location=DEVICE))\n",
    "    network.to(DEVICE)\n",
    "    return network\n",
    "\n",
    "def save_population(population: List[SimpleNeuralNetwork], filename: str):\n",
    "    with open(filename, 'wb') as f:\n",
    "        pickle.dump(population, f)   \n",
    "\n",
    "def load_population(filename: str) -> List[SimpleNeuralNetwork]:\n",
    "    with open(filename, 'rb') as f:\n",
    "        population = pickle.load(f)\n",
    "    return population"
   ]
  },
  {
   "cell_type": "code",
   "execution_count": null,
   "id": "fc6676ba",
   "metadata": {
    "scrolled": true
   },
   "outputs": [
    {
     "name": "stdout",
     "output_type": "stream",
     "text": [
      "Saving networks to folder: networks/2048_2048\n"
     ]
    }
   ],
   "source": [
    "from datetime import timedelta\n",
    "\n",
    "def main():\n",
    "    env = Game2048Env()\n",
    "\n",
    "    generations = 1000\n",
    "    games_per_player = 10\n",
    "    max_steps = 10000\n",
    "    hidden_layers = [2048, 2048]\n",
    "\n",
    "    optimizer = EvolutionaryOptimizer(\n",
    "        population_size=100,\n",
    "        elite_size=20,\n",
    "        new_members=10,\n",
    "        mutation_rate=0.05,\n",
    "        mutation_strength=0.1,\n",
    "        hidden_layers=hidden_layers\n",
    "    )\n",
    "\n",
    "\n",
    "\n",
    "    loop_start_time = time.time()\n",
    "\n",
    "    # Create directory for saving networks\n",
    "    import os\n",
    "    folder = f\"networks/{'_'.join(str(x) for x in hidden_layers)}\"\n",
    "    os.makedirs(folder, exist_ok=True)\n",
    "    print(f\"Saving networks to folder: {folder}\")\n",
    "\n",
    "    best_score = 0\n",
    "    avg_best_tiles = []\n",
    "    for gen in range(generations):\n",
    "        (population, avg_best_tile, best_score) = optimizer.run_generation(env, games_per_player, max_steps)\n",
    "        avg_best_tiles.append(avg_best_tile)\n",
    "        elapsed_time = time.time() - loop_start_time\n",
    "        average_time_per_iteration = elapsed_time / (gen + 1)\n",
    "        duration = str(timedelta(seconds=(average_time_per_iteration * (generations - gen + 1))))\n",
    "\n",
    "        # Save best network every 10 generations\n",
    "        if (gen % 10 == 0) or (gen == generations - 1):\n",
    "            print(f\"⏳ {duration} | Generation {gen+1}/{generations} - Average Best Tile: {avg_best_tile} - Best Score: {best_score} \")\n",
    "            print(f\"Saving population at generation {gen+1}\")\n",
    "            save_population(population, f'{folder}/population_gen_{gen+1}.pkl')\n",
    "\n",
    "\n",
    "    # evaluated = optimizer.evaluate(env, 10)\n",
    "    # best_network, best_score = max(evaluated, key=lambda x: x[1])\n",
    "\n",
    "    # Plot average scores over generations\n",
    "    plt.plot(range(1, generations + 1), avg_best_tiles)\n",
    "    plt.xlabel('Generation')\n",
    "    plt.ylabel('Average Score')\n",
    "    plt.title('Evolution of Average Score over Generations')\n",
    "    plt.show()\n",
    "\n",
    "if __name__ == \"__main__\":\n",
    "    main()"
   ]
  }
 ],
 "metadata": {
  "kernelspec": {
   "display_name": "Python 3 (ipykernel)",
   "language": "python",
   "name": "python3"
  },
  "language_info": {
   "codemirror_mode": {
    "name": "ipython",
    "version": 3
   },
   "file_extension": ".py",
   "mimetype": "text/x-python",
   "name": "python",
   "nbconvert_exporter": "python",
   "pygments_lexer": "ipython3",
   "version": "3.13.7"
  }
 },
 "nbformat": 4,
 "nbformat_minor": 5
}
